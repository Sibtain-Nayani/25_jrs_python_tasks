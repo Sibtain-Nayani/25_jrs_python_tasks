{
 "cells": [
  {
   "cell_type": "markdown",
   "id": "20de0fd8",
   "metadata": {},
   "source": [
    "### Install OpenCV"
   ]
  },
  {
   "cell_type": "code",
   "execution_count": null,
   "id": "0753176e",
   "metadata": {},
   "outputs": [],
   "source": [
    "# Replace Image paths accordingly!!!"
   ]
  },
  {
   "cell_type": "code",
   "execution_count": null,
   "id": "fb44797d",
   "metadata": {},
   "outputs": [],
   "source": [
    "%pip install opencv-contrib-python"
   ]
  },
  {
   "cell_type": "markdown",
   "id": "78347eec",
   "metadata": {},
   "source": [
    "| **Property**                | **What It Means**                                                                                                   |\n",
    "| --------------------------- | ------------------------------------------------------------------------------------------------------------------- |\n",
    "| **Resolution**              | Total number of pixels = Width × Height (e.g., `1920 × 1080` = Full HD)                                             |\n",
    "| **Shape**                   | - Grayscale: `(H, W)`<br>- Color: `(H, W, 3)`                                                                       |\n",
    "| **Channels**                | Number of color components:<br>• 1 (grayscale)<br>• 3 (RGB/BGR)<br>• 4 (RGBA)                                       |\n",
    "| **Bit Depth**               | - 8-bit: pixel values from `0–255`<br>- 16-bit: `0–65535` (used in medical/scientific imaging)                      |\n",
    "| **Data Type**               | Usually `uint8` (unsigned 8-bit int), but can also be `float32` for scientific or deep learning tasks               |\n",
    "| **Color Space**             | Determines how color is represented internally:<br>• RGB<br>• BGR<br>• HSV<br>• LAB, etc.                           |\n",
    "| **Pixel Value**             | - Grayscale: a single number per pixel<br>- RGB/BGR: a vector of numbers per pixel (e.g., `[R, G, B]`)              |\n",
    "| **📉 Intensity/Brightness** | - **Intensity**: How strong a color channel is<br>- **Brightness**: How light the final color appears to human eyes |\n"
   ]
  },
  {
   "cell_type": "markdown",
   "id": "8c52456c",
   "metadata": {},
   "source": [
    "### Basic Functions"
   ]
  },
  {
   "cell_type": "code",
   "execution_count": null,
   "id": "57f83537",
   "metadata": {},
   "outputs": [],
   "source": [
    "import cv2 as cv\n",
    "\n",
    "# Read in an image\n",
    "img = cv.imread('./Resources/Photos/park.jpg')\n",
    "cv.imshow('Park', img)"
   ]
  },
  {
   "cell_type": "code",
   "execution_count": null,
   "id": "757ff4b6",
   "metadata": {},
   "outputs": [],
   "source": [
    "# Converting to grayscale\n",
    "gray = cv.cvtColor(img, cv.COLOR_BGR2GRAY)\n",
    "cv.imshow('Gray', gray)"
   ]
  },
  {
   "cell_type": "code",
   "execution_count": null,
   "id": "9249a0e6",
   "metadata": {},
   "outputs": [],
   "source": [
    "# Blur \n",
    "blur = cv.GaussianBlur(img, (7,7), cv.BORDER_DEFAULT)\n",
    "cv.imshow('Blur', blur)"
   ]
  },
  {
   "cell_type": "code",
   "execution_count": null,
   "id": "11ae619a",
   "metadata": {},
   "outputs": [],
   "source": [
    "# Edge Cascade\n",
    "canny = cv.Canny(blur, 125, 175)\n",
    "cv.imshow('Canny Edges', canny)"
   ]
  },
  {
   "cell_type": "code",
   "execution_count": null,
   "id": "8892ca03",
   "metadata": {},
   "outputs": [],
   "source": [
    "# Dilating the image\n",
    "dilated = cv.dilate(canny, (7,7), iterations=3)\n",
    "cv.imshow('Dilated', dilated)"
   ]
  },
  {
   "cell_type": "code",
   "execution_count": null,
   "id": "8c495985",
   "metadata": {},
   "outputs": [],
   "source": [
    "# Eroding\n",
    "eroded = cv.erode(dilated, (7,7), iterations=3)\n",
    "cv.imshow('Eroded', eroded)"
   ]
  },
  {
   "cell_type": "code",
   "execution_count": null,
   "id": "d9b1a014",
   "metadata": {},
   "outputs": [],
   "source": [
    "# Resize\n",
    "resized = cv.resize(img, (500,500), interpolation=cv.INTER_CUBIC)\n",
    "cv.imshow('Resized', resized)"
   ]
  },
  {
   "cell_type": "code",
   "execution_count": null,
   "id": "fdce6c00",
   "metadata": {},
   "outputs": [],
   "source": [
    "# Cropping\n",
    "cropped = img[50:200, 200:400]\n",
    "cv.imshow('Cropped', cropped)"
   ]
  },
  {
   "cell_type": "markdown",
   "id": "81caa291",
   "metadata": {},
   "source": [
    "### Draw"
   ]
  },
  {
   "cell_type": "code",
   "execution_count": null,
   "id": "47999acd",
   "metadata": {},
   "outputs": [],
   "source": [
    "import numpy as np\n",
    "\n",
    "blank = np.zeros((500,500,3), dtype='uint8')\n",
    "cv.imshow('Blank', blank)\n",
    "\n",
    "# 1. Paint the image a certain colour\n",
    "blank[200:300, 300:400] = 0,0,255\n",
    "cv.imshow('Green', blank)\n"
   ]
  },
  {
   "cell_type": "code",
   "execution_count": null,
   "id": "e957530b",
   "metadata": {},
   "outputs": [],
   "source": [
    "# 2. Draw a Rectangle\n",
    "cv.rectangle(blank, (0,0), (blank.shape[1]//2, blank.shape[0]//2), (0,255,0), thickness=-1)\n",
    "cv.imshow('Rectangle', blank)\n"
   ]
  },
  {
   "cell_type": "code",
   "execution_count": null,
   "id": "084d3c28",
   "metadata": {},
   "outputs": [],
   "source": [
    "# 3. Draw A circle\n",
    "cv.circle(blank, (blank.shape[1]//2, blank.shape[0]//2), 40, (0,0,255), thickness=-1)\n",
    "cv.imshow('Circle', blank)\n"
   ]
  },
  {
   "cell_type": "code",
   "execution_count": null,
   "id": "28a3b16f",
   "metadata": {},
   "outputs": [],
   "source": [
    "# 4. Draw a line\n",
    "cv.line(blank, (100,250), (300,400), (255,255,255), thickness=3)\n",
    "cv.imshow('Line', blank)\n"
   ]
  },
  {
   "cell_type": "code",
   "execution_count": null,
   "id": "767ea9ad",
   "metadata": {},
   "outputs": [],
   "source": [
    "# 5. Write text\n",
    "cv.putText(blank, 'Hello, my name is Vaibhav!!!', (0,225), cv.FONT_HERSHEY_TRIPLEX, 1.0, (0,255,0), 2)\n",
    "cv.imshow('Text', blank)\n"
   ]
  },
  {
   "cell_type": "markdown",
   "id": "df21355d",
   "metadata": {},
   "source": [
    "### Thresholding"
   ]
  },
  {
   "cell_type": "code",
   "execution_count": null,
   "id": "5e96c432",
   "metadata": {},
   "outputs": [],
   "source": [
    "import cv2 as cv\n",
    "\n",
    "img = cv.imread('./Resources/Photos/cats.jpg')\n",
    "cv.imshow('Cats', img)"
   ]
  },
  {
   "cell_type": "code",
   "execution_count": null,
   "id": "4a1f4646",
   "metadata": {},
   "outputs": [],
   "source": [
    "gray = cv.cvtColor(img, cv.COLOR_BGR2GRAY)\n",
    "cv.imshow('Gray', gray)"
   ]
  },
  {
   "cell_type": "code",
   "execution_count": null,
   "id": "e2496333",
   "metadata": {},
   "outputs": [],
   "source": [
    "# Simple Thresholding\n",
    "threshold, thresh = cv.threshold(gray, 150, 255, cv.THRESH_BINARY )\n",
    "cv.imshow('Simple Thresholded', thresh)"
   ]
  },
  {
   "cell_type": "code",
   "execution_count": null,
   "id": "23b4d11e",
   "metadata": {},
   "outputs": [],
   "source": [
    "threshold, thresh_inv = cv.threshold(gray, 150, 255, cv.THRESH_BINARY_INV )\n",
    "cv.imshow('Simple Thresholded Inverse', thresh_inv)"
   ]
  },
  {
   "cell_type": "code",
   "execution_count": null,
   "id": "ae978b37",
   "metadata": {},
   "outputs": [],
   "source": [
    "# Adaptive Thresholding\n",
    "adaptive_thresh = cv.adaptiveThreshold(gray, 255, cv.ADAPTIVE_THRESH_GAUSSIAN_C, cv.THRESH_BINARY_INV, 11, 9)\n",
    "cv.imshow('Adaptive Thresholding', adaptive_thresh)"
   ]
  },
  {
   "cell_type": "markdown",
   "id": "f09a5223",
   "metadata": {},
   "source": [
    "### Contours"
   ]
  },
  {
   "cell_type": "code",
   "execution_count": null,
   "id": "763adf94",
   "metadata": {},
   "outputs": [],
   "source": [
    "img = cv.imread('./Resources/Photos/cats.jpg')\n",
    "cv.imshow('Cats', img)"
   ]
  },
  {
   "cell_type": "code",
   "execution_count": null,
   "id": "0c438535",
   "metadata": {},
   "outputs": [],
   "source": [
    "blank = np.zeros(img.shape, dtype='uint8')\n",
    "cv.imshow('Blank', blank)"
   ]
  },
  {
   "cell_type": "code",
   "execution_count": null,
   "id": "8f613170",
   "metadata": {},
   "outputs": [],
   "source": [
    "gray = cv.cvtColor(img, cv.COLOR_BGR2GRAY)\n",
    "cv.imshow('Gray', gray)"
   ]
  },
  {
   "cell_type": "code",
   "execution_count": null,
   "id": "50108e3c",
   "metadata": {},
   "outputs": [],
   "source": [
    "blur = cv.GaussianBlur(gray, (5,5), cv.BORDER_DEFAULT)\n",
    "cv.imshow('Blur', blur)"
   ]
  },
  {
   "cell_type": "code",
   "execution_count": null,
   "id": "6936e4f6",
   "metadata": {},
   "outputs": [],
   "source": [
    "canny = cv.Canny(blur, 125, 175)\n",
    "cv.imshow('Canny Edges', canny)"
   ]
  },
  {
   "cell_type": "code",
   "execution_count": null,
   "id": "7859fa47",
   "metadata": {},
   "outputs": [],
   "source": [
    "contours, hierarchies = cv.findContours(canny, cv.RETR_LIST, cv.CHAIN_APPROX_SIMPLE)\n",
    "print(f'{len(contours)} contour(s) found!')\n",
    "\n",
    "cv.drawContours(blank, contours, -1, (0,0,255), 1)\n",
    "cv.imshow('Contours Drawn', blank)"
   ]
  },
  {
   "cell_type": "markdown",
   "id": "663ad155",
   "metadata": {},
   "source": [
    "### Video"
   ]
  },
  {
   "cell_type": "code",
   "execution_count": null,
   "id": "e562381f",
   "metadata": {},
   "outputs": [],
   "source": [
    "capture = cv.VideoCapture('./Resources/Videos/dog.mp4')\n",
    "\n",
    "while True:\n",
    "    isTrue, frame = capture.read()\n",
    "    \n",
    "    # if cv.waitKey(20) & 0xFF==ord('d'):\n",
    "    # This is the preferred way - if `isTrue` is false (the frame could \n",
    "    # not be read, or we're at the end of the video), we immediately\n",
    "    # break from the loop. \n",
    "    if isTrue:    \n",
    "        cv.imshow('Video', frame)\n",
    "        if cv.waitKey(20) & 0xFF==ord('d'):\n",
    "            break            \n",
    "    else:\n",
    "        break\n",
    "\n",
    "capture.release()\n",
    "cv.destroyAllWindows()\n"
   ]
  }
 ],
 "metadata": {
  "kernelspec": {
   "display_name": "Python 3",
   "language": "python",
   "name": "python3"
  },
  "language_info": {
   "codemirror_mode": {
    "name": "ipython",
    "version": 3
   },
   "file_extension": ".py",
   "mimetype": "text/x-python",
   "name": "python",
   "nbconvert_exporter": "python",
   "pygments_lexer": "ipython3",
   "version": "3.12.5"
  }
 },
 "nbformat": 4,
 "nbformat_minor": 5
}
